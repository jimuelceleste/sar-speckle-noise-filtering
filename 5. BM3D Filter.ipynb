{
 "cells": [
  {
   "cell_type": "markdown",
   "id": "daa2435c-e548-4a48-a55d-540bf066c4f2",
   "metadata": {},
   "source": [
    "# BM3D Experiments"
   ]
  },
  {
   "cell_type": "code",
   "execution_count": 1,
   "id": "38eb3847-3983-4c6f-aeca-a43264d092c9",
   "metadata": {},
   "outputs": [
    {
     "name": "stdout",
     "output_type": "stream",
     "text": [
      "Intel MKL WARNING: Support of Intel(R) Streaming SIMD Extensions 4.2 (Intel(R) SSE4.2) enabled only processors has been deprecated. Intel oneAPI Math Kernel Library 2025.0 will require Intel(R) Advanced Vector Extensions (Intel(R) AVX) instructions.\n",
      "Intel MKL WARNING: Support of Intel(R) Streaming SIMD Extensions 4.2 (Intel(R) SSE4.2) enabled only processors has been deprecated. Intel oneAPI Math Kernel Library 2025.0 will require Intel(R) Advanced Vector Extensions (Intel(R) AVX) instructions.\n"
     ]
    }
   ],
   "source": [
    "import cv2 \n",
    "import bm3d \n",
    "import matplotlib.pyplot as plt \n",
    "import pandas as pd\n",
    "import os"
   ]
  },
  {
   "cell_type": "code",
   "execution_count": 2,
   "id": "1dbabf2c-cd51-4033-b7af-da83194543c3",
   "metadata": {},
   "outputs": [],
   "source": [
    "def apply_bm3d(input_file, output_file, sigma_psd):\n",
    "    image = cv2.imread(input_file, cv2.IMREAD_GRAYSCALE) \n",
    "    despeckled_image = bm3d.bm3d(image, sigma_psd=sigma_psd, stage_arg=bm3d.BM3DStages.ALL_STAGES)\n",
    "    cv2.imwrite(output_file, despeckled_image)"
   ]
  },
  {
   "cell_type": "code",
   "execution_count": 3,
   "id": "a1578f33-07fc-48dc-a884-d144212f5504",
   "metadata": {},
   "outputs": [
    {
     "data": {
      "text/plain": [
       "['../results/selected_images/sentinel-1_image_VH_2018-08-12.png',\n",
       " '../results/selected_images/sentinel-1_image_VH_2018-12-10.png',\n",
       " '../results/selected_images/sentinel-1_image_VH_2018-10-11.png',\n",
       " '../results/selected_images/sentinel-1_image_VH_2019-04-09.png',\n",
       " '../results/selected_images/sentinel-1_image_VH_2019-03-04.png',\n",
       " '../results/selected_images/sentinel-1_image_VH_2018-09-05.png',\n",
       " '../results/selected_images/sentinel-1_image_VH_2019-01-03.png',\n",
       " '../results/selected_images/sentinel-1_image_VH_2019-02-08.png',\n",
       " '../results/selected_images/sentinel-1_image_VH_2018-11-04.png']"
      ]
     },
     "execution_count": 3,
     "metadata": {},
     "output_type": "execute_result"
    }
   ],
   "source": [
    "input_dir = '../results/selected_images'\n",
    "input_files = []\n",
    "for file in os.listdir(input_dir):\n",
    "    name, ext = os.path.splitext(file)\n",
    "    if ext == '.png':\n",
    "        input_files.append(os.path.join(input_dir, file))\n",
    "input_files"
   ]
  },
  {
   "cell_type": "code",
   "execution_count": 4,
   "id": "d2478d8f-22a7-4ee5-8358-e07d3fcbac7b",
   "metadata": {
    "scrolled": true
   },
   "outputs": [
    {
     "name": "stdout",
     "output_type": "stream",
     "text": [
      "BM3D(input_file=../results/selected_images/sentinel-1_image_VH_2018-08-12.png, output_file=../results/bm3d_images/sigma_psd_10/sentinel-1_image_VH_2018-08-12.png, sigma_psd=10)\n",
      "BM3D(input_file=../results/selected_images/sentinel-1_image_VH_2018-12-10.png, output_file=../results/bm3d_images/sigma_psd_10/sentinel-1_image_VH_2018-12-10.png, sigma_psd=10)\n",
      "BM3D(input_file=../results/selected_images/sentinel-1_image_VH_2018-10-11.png, output_file=../results/bm3d_images/sigma_psd_10/sentinel-1_image_VH_2018-10-11.png, sigma_psd=10)\n",
      "BM3D(input_file=../results/selected_images/sentinel-1_image_VH_2019-04-09.png, output_file=../results/bm3d_images/sigma_psd_10/sentinel-1_image_VH_2019-04-09.png, sigma_psd=10)\n",
      "BM3D(input_file=../results/selected_images/sentinel-1_image_VH_2019-03-04.png, output_file=../results/bm3d_images/sigma_psd_10/sentinel-1_image_VH_2019-03-04.png, sigma_psd=10)\n",
      "BM3D(input_file=../results/selected_images/sentinel-1_image_VH_2018-09-05.png, output_file=../results/bm3d_images/sigma_psd_10/sentinel-1_image_VH_2018-09-05.png, sigma_psd=10)\n",
      "BM3D(input_file=../results/selected_images/sentinel-1_image_VH_2019-01-03.png, output_file=../results/bm3d_images/sigma_psd_10/sentinel-1_image_VH_2019-01-03.png, sigma_psd=10)\n",
      "BM3D(input_file=../results/selected_images/sentinel-1_image_VH_2019-02-08.png, output_file=../results/bm3d_images/sigma_psd_10/sentinel-1_image_VH_2019-02-08.png, sigma_psd=10)\n",
      "BM3D(input_file=../results/selected_images/sentinel-1_image_VH_2018-11-04.png, output_file=../results/bm3d_images/sigma_psd_10/sentinel-1_image_VH_2018-11-04.png, sigma_psd=10)\n",
      "BM3D(input_file=../results/selected_images/sentinel-1_image_VH_2018-08-12.png, output_file=../results/bm3d_images/sigma_psd_20/sentinel-1_image_VH_2018-08-12.png, sigma_psd=20)\n",
      "BM3D(input_file=../results/selected_images/sentinel-1_image_VH_2018-12-10.png, output_file=../results/bm3d_images/sigma_psd_20/sentinel-1_image_VH_2018-12-10.png, sigma_psd=20)\n",
      "BM3D(input_file=../results/selected_images/sentinel-1_image_VH_2018-10-11.png, output_file=../results/bm3d_images/sigma_psd_20/sentinel-1_image_VH_2018-10-11.png, sigma_psd=20)\n",
      "BM3D(input_file=../results/selected_images/sentinel-1_image_VH_2019-04-09.png, output_file=../results/bm3d_images/sigma_psd_20/sentinel-1_image_VH_2019-04-09.png, sigma_psd=20)\n",
      "BM3D(input_file=../results/selected_images/sentinel-1_image_VH_2019-03-04.png, output_file=../results/bm3d_images/sigma_psd_20/sentinel-1_image_VH_2019-03-04.png, sigma_psd=20)\n",
      "BM3D(input_file=../results/selected_images/sentinel-1_image_VH_2018-09-05.png, output_file=../results/bm3d_images/sigma_psd_20/sentinel-1_image_VH_2018-09-05.png, sigma_psd=20)\n",
      "BM3D(input_file=../results/selected_images/sentinel-1_image_VH_2019-01-03.png, output_file=../results/bm3d_images/sigma_psd_20/sentinel-1_image_VH_2019-01-03.png, sigma_psd=20)\n",
      "BM3D(input_file=../results/selected_images/sentinel-1_image_VH_2019-02-08.png, output_file=../results/bm3d_images/sigma_psd_20/sentinel-1_image_VH_2019-02-08.png, sigma_psd=20)\n",
      "BM3D(input_file=../results/selected_images/sentinel-1_image_VH_2018-11-04.png, output_file=../results/bm3d_images/sigma_psd_20/sentinel-1_image_VH_2018-11-04.png, sigma_psd=20)\n",
      "BM3D(input_file=../results/selected_images/sentinel-1_image_VH_2018-08-12.png, output_file=../results/bm3d_images/sigma_psd_30/sentinel-1_image_VH_2018-08-12.png, sigma_psd=30)\n",
      "BM3D(input_file=../results/selected_images/sentinel-1_image_VH_2018-12-10.png, output_file=../results/bm3d_images/sigma_psd_30/sentinel-1_image_VH_2018-12-10.png, sigma_psd=30)\n",
      "BM3D(input_file=../results/selected_images/sentinel-1_image_VH_2018-10-11.png, output_file=../results/bm3d_images/sigma_psd_30/sentinel-1_image_VH_2018-10-11.png, sigma_psd=30)\n",
      "BM3D(input_file=../results/selected_images/sentinel-1_image_VH_2019-04-09.png, output_file=../results/bm3d_images/sigma_psd_30/sentinel-1_image_VH_2019-04-09.png, sigma_psd=30)\n",
      "BM3D(input_file=../results/selected_images/sentinel-1_image_VH_2019-03-04.png, output_file=../results/bm3d_images/sigma_psd_30/sentinel-1_image_VH_2019-03-04.png, sigma_psd=30)\n",
      "BM3D(input_file=../results/selected_images/sentinel-1_image_VH_2018-09-05.png, output_file=../results/bm3d_images/sigma_psd_30/sentinel-1_image_VH_2018-09-05.png, sigma_psd=30)\n",
      "BM3D(input_file=../results/selected_images/sentinel-1_image_VH_2019-01-03.png, output_file=../results/bm3d_images/sigma_psd_30/sentinel-1_image_VH_2019-01-03.png, sigma_psd=30)\n",
      "BM3D(input_file=../results/selected_images/sentinel-1_image_VH_2019-02-08.png, output_file=../results/bm3d_images/sigma_psd_30/sentinel-1_image_VH_2019-02-08.png, sigma_psd=30)\n",
      "BM3D(input_file=../results/selected_images/sentinel-1_image_VH_2018-11-04.png, output_file=../results/bm3d_images/sigma_psd_30/sentinel-1_image_VH_2018-11-04.png, sigma_psd=30)\n",
      "BM3D(input_file=../results/selected_images/sentinel-1_image_VH_2018-08-12.png, output_file=../results/bm3d_images/sigma_psd_40/sentinel-1_image_VH_2018-08-12.png, sigma_psd=40)\n",
      "BM3D(input_file=../results/selected_images/sentinel-1_image_VH_2018-12-10.png, output_file=../results/bm3d_images/sigma_psd_40/sentinel-1_image_VH_2018-12-10.png, sigma_psd=40)\n",
      "BM3D(input_file=../results/selected_images/sentinel-1_image_VH_2018-10-11.png, output_file=../results/bm3d_images/sigma_psd_40/sentinel-1_image_VH_2018-10-11.png, sigma_psd=40)\n",
      "BM3D(input_file=../results/selected_images/sentinel-1_image_VH_2019-04-09.png, output_file=../results/bm3d_images/sigma_psd_40/sentinel-1_image_VH_2019-04-09.png, sigma_psd=40)\n",
      "BM3D(input_file=../results/selected_images/sentinel-1_image_VH_2019-03-04.png, output_file=../results/bm3d_images/sigma_psd_40/sentinel-1_image_VH_2019-03-04.png, sigma_psd=40)\n",
      "BM3D(input_file=../results/selected_images/sentinel-1_image_VH_2018-09-05.png, output_file=../results/bm3d_images/sigma_psd_40/sentinel-1_image_VH_2018-09-05.png, sigma_psd=40)\n",
      "BM3D(input_file=../results/selected_images/sentinel-1_image_VH_2019-01-03.png, output_file=../results/bm3d_images/sigma_psd_40/sentinel-1_image_VH_2019-01-03.png, sigma_psd=40)\n",
      "BM3D(input_file=../results/selected_images/sentinel-1_image_VH_2019-02-08.png, output_file=../results/bm3d_images/sigma_psd_40/sentinel-1_image_VH_2019-02-08.png, sigma_psd=40)\n",
      "BM3D(input_file=../results/selected_images/sentinel-1_image_VH_2018-11-04.png, output_file=../results/bm3d_images/sigma_psd_40/sentinel-1_image_VH_2018-11-04.png, sigma_psd=40)\n",
      "BM3D(input_file=../results/selected_images/sentinel-1_image_VH_2018-08-12.png, output_file=../results/bm3d_images/sigma_psd_50/sentinel-1_image_VH_2018-08-12.png, sigma_psd=50)\n",
      "BM3D(input_file=../results/selected_images/sentinel-1_image_VH_2018-12-10.png, output_file=../results/bm3d_images/sigma_psd_50/sentinel-1_image_VH_2018-12-10.png, sigma_psd=50)\n",
      "BM3D(input_file=../results/selected_images/sentinel-1_image_VH_2018-10-11.png, output_file=../results/bm3d_images/sigma_psd_50/sentinel-1_image_VH_2018-10-11.png, sigma_psd=50)\n",
      "BM3D(input_file=../results/selected_images/sentinel-1_image_VH_2019-04-09.png, output_file=../results/bm3d_images/sigma_psd_50/sentinel-1_image_VH_2019-04-09.png, sigma_psd=50)\n",
      "BM3D(input_file=../results/selected_images/sentinel-1_image_VH_2019-03-04.png, output_file=../results/bm3d_images/sigma_psd_50/sentinel-1_image_VH_2019-03-04.png, sigma_psd=50)\n",
      "BM3D(input_file=../results/selected_images/sentinel-1_image_VH_2018-09-05.png, output_file=../results/bm3d_images/sigma_psd_50/sentinel-1_image_VH_2018-09-05.png, sigma_psd=50)\n",
      "BM3D(input_file=../results/selected_images/sentinel-1_image_VH_2019-01-03.png, output_file=../results/bm3d_images/sigma_psd_50/sentinel-1_image_VH_2019-01-03.png, sigma_psd=50)\n",
      "BM3D(input_file=../results/selected_images/sentinel-1_image_VH_2019-02-08.png, output_file=../results/bm3d_images/sigma_psd_50/sentinel-1_image_VH_2019-02-08.png, sigma_psd=50)\n",
      "BM3D(input_file=../results/selected_images/sentinel-1_image_VH_2018-11-04.png, output_file=../results/bm3d_images/sigma_psd_50/sentinel-1_image_VH_2018-11-04.png, sigma_psd=50)\n"
     ]
    }
   ],
   "source": [
    "output_dir = '../results/bm3d_images/'\n",
    "for sigma_psd in [10, 20, 30, 40, 50]:\n",
    "    # Output Directory \n",
    "    current_output_dir = os.path.join(output_dir, 'sigma_psd_%i' % (sigma_psd))\n",
    "    os.makedirs(current_output_dir, exist_ok=True)\n",
    "\n",
    "    # Output Files\n",
    "    output_files = [] \n",
    "    for file in input_files:\n",
    "        file = os.path.relpath(file, input_dir)\n",
    "        name, ext = os.path.splitext(file)\n",
    "        output_files.append(os.path.join(current_output_dir, file))\n",
    "    \n",
    "    # Applying BM3D\n",
    "    input_output_mapping = list(zip(input_files, output_files))\n",
    "    for input_file, output_file in input_output_mapping:\n",
    "        print(f'BM3D(input_file={input_file}, output_file={output_file}, sigma_psd={sigma_psd})')\n",
    "        \n",
    "        if os.path.exists(output_file):\n",
    "            print(f'>>> Skipping step... This file exists.')\n",
    "        else:            \n",
    "            apply_bm3d(input_file, output_file, sigma_psd)"
   ]
  },
  {
   "cell_type": "code",
   "execution_count": null,
   "id": "dca19456-b4f5-43bd-a100-24442d95d9bd",
   "metadata": {},
   "outputs": [],
   "source": []
  }
 ],
 "metadata": {
  "kernelspec": {
   "display_name": "Python 3 (ipykernel)",
   "language": "python",
   "name": "python3"
  },
  "language_info": {
   "codemirror_mode": {
    "name": "ipython",
    "version": 3
   },
   "file_extension": ".py",
   "mimetype": "text/x-python",
   "name": "python",
   "nbconvert_exporter": "python",
   "pygments_lexer": "ipython3",
   "version": "3.8.8"
  }
 },
 "nbformat": 4,
 "nbformat_minor": 5
}
