{
 "cells": [
  {
   "cell_type": "markdown",
   "metadata": {
    "id": "lkzQFDMB6Iv2"
   },
   "source": [
    "# Lee and Frost Filters\n",
    "\n",
    "**NOTE:** This Notebook was run on Google Colab. It takes time to run findpeaks functions on my local machine.\n",
    "\n",
    "The objective is to filter SAR images with the following filters:\n",
    "- Lee\n",
    "- Frost\n"
   ]
  },
  {
   "cell_type": "code",
   "execution_count": null,
   "metadata": {
    "id": "FXVyOmubzKb1"
   },
   "outputs": [],
   "source": [
    "import cv2\n",
    "import matplotlib.pyplot as plt\n",
    "import pandas as pd\n",
    "import os\n",
    "import numpy as np\n",
    "from scipy import ndimage\n",
    "import findpeaks"
   ]
  },
  {
   "cell_type": "code",
   "execution_count": null,
   "metadata": {
    "id": "PsNBuNKpzqQF"
   },
   "outputs": [],
   "source": [
    "input_files = [\n",
    "    'sentinel-1_image_VH_2018-08-12.png',\n",
    "    'sentinel-1_image_VH_2018-12-10.png',\n",
    "    'sentinel-1_image_VH_2018-10-11.png',\n",
    "    'sentinel-1_image_VH_2019-04-09.png',\n",
    "    'sentinel-1_image_VH_2019-03-04.png',\n",
    "    'sentinel-1_image_VH_2018-09-05.png',\n",
    "    'sentinel-1_image_VH_2019-01-03.png',\n",
    "    'sentinel-1_image_VH_2019-02-08.png',\n",
    "    'sentinel-1_image_VH_2018-11-04.png'\n",
    "]"
   ]
  },
  {
   "cell_type": "code",
   "execution_count": null,
   "metadata": {
    "colab": {
     "base_uri": "https://localhost:8080/"
    },
    "id": "3BHnzHCCzsT0",
    "outputId": "85b2bf6f-7115-4bd0-e256-f3a0739864a4"
   },
   "outputs": [
    {
     "name": "stdout",
     "output_type": "stream",
     "text": [
      "Drive already mounted at /content/drive; to attempt to forcibly remount, call drive.mount(\"/content/drive\", force_remount=True).\n"
     ]
    }
   ],
   "source": [
    "from google.colab import drive\n",
    "drive.mount('/content/drive')"
   ]
  },
  {
   "cell_type": "code",
   "execution_count": null,
   "metadata": {
    "colab": {
     "base_uri": "https://localhost:8080/"
    },
    "id": "Z3yQcRGIz-Ao",
    "outputId": "c83f74eb-380f-4e05-e6be-22169c32a85b"
   },
   "outputs": [
    {
     "name": "stdout",
     "output_type": "stream",
     "text": [
      "/content/drive/My Drive/MSc/CMPUT 617 - Earth Observation: Data Science and Applications/Final Project: SAR Speckle Noise Filtering/Codebook\n"
     ]
    }
   ],
   "source": [
    "%cd /content/drive/My Drive/MSc/CMPUT 617 - Earth Observation: Data Science and Applications/Final Project: SAR Speckle Noise Filtering/Codebook"
   ]
  },
  {
   "cell_type": "markdown",
   "metadata": {
    "id": "42hy18Ql6Emh"
   },
   "source": [
    "## Lee Filter"
   ]
  },
  {
   "cell_type": "code",
   "execution_count": null,
   "metadata": {
    "colab": {
     "base_uri": "https://localhost:8080/"
    },
    "id": "5qrR0bGl0HqU",
    "outputId": "ef692ee5-7dc4-422f-d452-0376fd57918f"
   },
   "outputs": [
    {
     "name": "stdout",
     "output_type": "stream",
     "text": [
      "Lee(input_file=sentinel-1_image_VH_2018-08-12.png)\n",
      "Lee(input_file=sentinel-1_image_VH_2018-12-10.png)\n",
      "Lee(input_file=sentinel-1_image_VH_2018-10-11.png)\n",
      "Lee(input_file=sentinel-1_image_VH_2019-04-09.png)\n",
      "Lee(input_file=sentinel-1_image_VH_2019-03-04.png)\n",
      "Lee(input_file=sentinel-1_image_VH_2018-09-05.png)\n",
      "Lee(input_file=sentinel-1_image_VH_2019-01-03.png)\n",
      "Lee(input_file=sentinel-1_image_VH_2019-02-08.png)\n",
      "Lee(input_file=sentinel-1_image_VH_2018-11-04.png)\n"
     ]
    }
   ],
   "source": [
    "for input_file in input_files:\n",
    "    print(f\"Lee(input_file={input_file})\")\n",
    "    image = cv2.imread('selected_images/' + input_file, cv2.IMREAD_GRAYSCALE)\n",
    "    kernel_size = 5\n",
    "    result = findpeaks.stats.lee_filter(image, win_size=kernel_size)\n",
    "    cv2.imwrite('lee/' + input_file, result)"
   ]
  },
  {
   "cell_type": "code",
   "execution_count": null,
   "metadata": {
    "id": "kd8jlvMoOLpc"
   },
   "outputs": [],
   "source": [
    "2639.603 / 9"
   ]
  },
  {
   "cell_type": "markdown",
   "metadata": {
    "id": "z1HAtJMk6Ga6"
   },
   "source": [
    "## Frost Filter"
   ]
  },
  {
   "cell_type": "code",
   "execution_count": null,
   "metadata": {
    "colab": {
     "base_uri": "https://localhost:8080/"
    },
    "id": "jyrqeoQB6Alx",
    "outputId": "e6e40118-ee30-405a-e1d4-a20100da1074"
   },
   "outputs": [
    {
     "metadata": {
      "tags": null
     },
     "name": "stdout",
     "output_type": "stream",
     "text": [
      "Frost(input_file=sentinel-1_image_VH_2018-08-12.png)\n",
      "Frost(input_file=sentinel-1_image_VH_2018-12-10.png)\n",
      "Frost(input_file=sentinel-1_image_VH_2018-10-11.png)\n",
      "Frost(input_file=sentinel-1_image_VH_2019-04-09.png)\n",
      "Frost(input_file=sentinel-1_image_VH_2019-03-04.png)\n",
      "Frost(input_file=sentinel-1_image_VH_2018-09-05.png)\n",
      "Frost(input_file=sentinel-1_image_VH_2019-01-03.png)\n",
      "Frost(input_file=sentinel-1_image_VH_2019-02-08.png)\n",
      "Frost(input_file=sentinel-1_image_VH_2018-11-04.png)\n"
     ]
    }
   ],
   "source": [
    "for input_file in input_files:\n",
    "    print(f\"Frost(input_file={input_file})\")\n",
    "    image = cv2.imread('selected_images/' + input_file, cv2.IMREAD_GRAYSCALE)\n",
    "    kernel_size = 5\n",
    "    result = findpeaks.stats.frost_filter(image, win_size=kernel_size)\n",
    "    cv2.imwrite('frost/' + input_file, result)"
   ]
  }
 ],
 "metadata": {
  "colab": {
   "provenance": []
  },
  "kernelspec": {
   "display_name": "Python 3 (ipykernel)",
   "language": "python",
   "name": "python3"
  },
  "language_info": {
   "codemirror_mode": {
    "name": "ipython",
    "version": 3
   },
   "file_extension": ".py",
   "mimetype": "text/x-python",
   "name": "python",
   "nbconvert_exporter": "python",
   "pygments_lexer": "ipython3",
   "version": "3.8.8"
  }
 },
 "nbformat": 4,
 "nbformat_minor": 1
}
