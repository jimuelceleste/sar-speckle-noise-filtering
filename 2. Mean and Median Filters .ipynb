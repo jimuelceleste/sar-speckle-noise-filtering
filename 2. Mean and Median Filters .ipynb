{
 "cells": [
  {
   "cell_type": "markdown",
   "id": "f9abb349-c4c7-4fb0-8d4e-016f71d1c0ca",
   "metadata": {},
   "source": [
    "# Mean (Boxcar) and Median Filters\n",
    "\n",
    "Window size: 5x5"
   ]
  },
  {
   "cell_type": "code",
   "execution_count": 1,
   "id": "df31adc6-5af5-4046-81de-1c3584da4077",
   "metadata": {},
   "outputs": [],
   "source": [
    "import cv2 \n",
    "import matplotlib.pyplot as plt \n",
    "import pandas as pd\n",
    "import os\n",
    "import numpy as np\n",
    "from scipy import ndimage\n",
    "from astropy.io import fits\n",
    "from astropy.convolution import convolve as ap_convolve\n",
    "from astropy.convolution import Box2DKernel"
   ]
  },
  {
   "cell_type": "code",
   "execution_count": 2,
   "id": "ae9b0c0c-6042-4926-a024-41e83b1110ae",
   "metadata": {},
   "outputs": [
    {
     "data": {
      "text/plain": [
       "['../results/selected_images/sentinel-1_image_VH_2018-08-12.png',\n",
       " '../results/selected_images/sentinel-1_image_VH_2018-12-10.png',\n",
       " '../results/selected_images/sentinel-1_image_VH_2018-10-11.png',\n",
       " '../results/selected_images/sentinel-1_image_VH_2019-04-09.png',\n",
       " '../results/selected_images/sentinel-1_image_VH_2019-03-04.png',\n",
       " '../results/selected_images/sentinel-1_image_VH_2018-09-05.png',\n",
       " '../results/selected_images/sentinel-1_image_VH_2019-01-03.png',\n",
       " '../results/selected_images/sentinel-1_image_VH_2019-02-08.png',\n",
       " '../results/selected_images/sentinel-1_image_VH_2018-11-04.png']"
      ]
     },
     "execution_count": 2,
     "metadata": {},
     "output_type": "execute_result"
    }
   ],
   "source": [
    "input_dir = '../results/selected_images'\n",
    "input_files = []\n",
    "for file in os.listdir(input_dir):\n",
    "    name, ext = os.path.splitext(file)\n",
    "    if ext == '.png':\n",
    "        input_files.append(os.path.join(input_dir, file))\n",
    "input_files"
   ]
  },
  {
   "cell_type": "code",
   "execution_count": 3,
   "id": "7d8320e0-49d7-417d-b416-a0215906e445",
   "metadata": {},
   "outputs": [],
   "source": [
    "def apply_boxcar(image, kernel_size):\n",
    "    return ap_convolve(image, Box2DKernel(kernel_size), normalize_kernel=True)\n",
    "\n",
    "def apply_median(image, kernel_size):\n",
    "    return ndimage.median_filter(image, size=kernel_size)\n",
    "\n",
    "def lee_filter(img, size):\n",
    "    \"\"\"\n",
    "    Function from StackOverflow: https://stackoverflow.com/questions/39785970/speckle-lee-filter-in-python\n",
    "    \"\"\"\n",
    "    img_mean = ndimage.uniform_filter(img, (size, size))\n",
    "    img_sqr_mean = ndimage.uniform_filter(img**2, (size, size))\n",
    "    img_variance = img_sqr_mean - img_mean**2\n",
    "\n",
    "    overall_variance = ndimage.variance(img)\n",
    "\n",
    "    img_weights = img_variance / (img_variance + overall_variance)\n",
    "    img_output = img_mean + img_weights * (img - img_mean)\n",
    "    return img_output"
   ]
  },
  {
   "cell_type": "code",
   "execution_count": 4,
   "id": "4c46f37c-9ab7-4c39-96f3-48dd6bf68e47",
   "metadata": {},
   "outputs": [
    {
     "name": "stdout",
     "output_type": "stream",
     "text": [
      "boxcar(input_file=../results/selected_images/sentinel-1_image_VH_2018-08-12.png, output_file=../results/boxcar/sentinel-1_image_VH_2018-08-12.png)\n",
      "boxcar(input_file=../results/selected_images/sentinel-1_image_VH_2018-12-10.png, output_file=../results/boxcar/sentinel-1_image_VH_2018-12-10.png)\n",
      "boxcar(input_file=../results/selected_images/sentinel-1_image_VH_2018-10-11.png, output_file=../results/boxcar/sentinel-1_image_VH_2018-10-11.png)\n",
      "boxcar(input_file=../results/selected_images/sentinel-1_image_VH_2019-04-09.png, output_file=../results/boxcar/sentinel-1_image_VH_2019-04-09.png)\n",
      "boxcar(input_file=../results/selected_images/sentinel-1_image_VH_2019-03-04.png, output_file=../results/boxcar/sentinel-1_image_VH_2019-03-04.png)\n",
      "boxcar(input_file=../results/selected_images/sentinel-1_image_VH_2018-09-05.png, output_file=../results/boxcar/sentinel-1_image_VH_2018-09-05.png)\n",
      "boxcar(input_file=../results/selected_images/sentinel-1_image_VH_2019-01-03.png, output_file=../results/boxcar/sentinel-1_image_VH_2019-01-03.png)\n",
      "boxcar(input_file=../results/selected_images/sentinel-1_image_VH_2019-02-08.png, output_file=../results/boxcar/sentinel-1_image_VH_2019-02-08.png)\n",
      "boxcar(input_file=../results/selected_images/sentinel-1_image_VH_2018-11-04.png, output_file=../results/boxcar/sentinel-1_image_VH_2018-11-04.png)\n",
      "median(input_file=../results/selected_images/sentinel-1_image_VH_2018-08-12.png, output_file=../results/median/sentinel-1_image_VH_2018-08-12.png)\n",
      "median(input_file=../results/selected_images/sentinel-1_image_VH_2018-12-10.png, output_file=../results/median/sentinel-1_image_VH_2018-12-10.png)\n",
      "median(input_file=../results/selected_images/sentinel-1_image_VH_2018-10-11.png, output_file=../results/median/sentinel-1_image_VH_2018-10-11.png)\n",
      "median(input_file=../results/selected_images/sentinel-1_image_VH_2019-04-09.png, output_file=../results/median/sentinel-1_image_VH_2019-04-09.png)\n",
      "median(input_file=../results/selected_images/sentinel-1_image_VH_2019-03-04.png, output_file=../results/median/sentinel-1_image_VH_2019-03-04.png)\n",
      "median(input_file=../results/selected_images/sentinel-1_image_VH_2018-09-05.png, output_file=../results/median/sentinel-1_image_VH_2018-09-05.png)\n",
      "median(input_file=../results/selected_images/sentinel-1_image_VH_2019-01-03.png, output_file=../results/median/sentinel-1_image_VH_2019-01-03.png)\n",
      "median(input_file=../results/selected_images/sentinel-1_image_VH_2019-02-08.png, output_file=../results/median/sentinel-1_image_VH_2019-02-08.png)\n",
      "median(input_file=../results/selected_images/sentinel-1_image_VH_2018-11-04.png, output_file=../results/median/sentinel-1_image_VH_2018-11-04.png)\n"
     ]
    }
   ],
   "source": [
    "output_dir = '../results/'\n",
    "filters = {\n",
    "    'boxcar': apply_boxcar,\n",
    "    'median': apply_median, \n",
    "}\n",
    "kernel_size = 5\n",
    "\n",
    "for filter_name in filters:\n",
    "    # Output Directory \n",
    "    current_output_dir = os.path.join(output_dir, filter_name)\n",
    "    os.makedirs(current_output_dir, exist_ok=True)\n",
    "\n",
    "    # # Output Files\n",
    "    output_files = [] \n",
    "    for file in input_files:\n",
    "        file = os.path.relpath(file, input_dir)\n",
    "        name, ext = os.path.splitext(file)\n",
    "        output_files.append(os.path.join(current_output_dir, file))\n",
    "\n",
    "\n",
    "    # Applying filter\n",
    "    filter = filters[filter_name]\n",
    "    input_output_mapping = list(zip(input_files, output_files))\n",
    "    for input_file, output_file in input_output_mapping:\n",
    "        print(f'{filter_name}(input_file={input_file}, output_file={output_file})')\n",
    "        \n",
    "        if os.path.exists(output_file):\n",
    "            print(f'>>> Skipping step... This file exists.')\n",
    "        else:\n",
    "            image = cv2.imread(input_file, cv2.IMREAD_GRAYSCALE) \n",
    "            filtered_image = filter(image, kernel_size)\n",
    "            cv2.imwrite(output_file, filtered_image)\n",
    "            # plt.figure()\n",
    "            # plt.imshow(result, cmap='gray')"
   ]
  },
  {
   "cell_type": "code",
   "execution_count": null,
   "id": "35f54309",
   "metadata": {},
   "outputs": [],
   "source": []
  }
 ],
 "metadata": {
  "kernelspec": {
   "display_name": "Python 3 (ipykernel)",
   "language": "python",
   "name": "python3"
  },
  "language_info": {
   "codemirror_mode": {
    "name": "ipython",
    "version": 3
   },
   "file_extension": ".py",
   "mimetype": "text/x-python",
   "name": "python",
   "nbconvert_exporter": "python",
   "pygments_lexer": "ipython3",
   "version": "3.8.8"
  }
 },
 "nbformat": 4,
 "nbformat_minor": 5
}
